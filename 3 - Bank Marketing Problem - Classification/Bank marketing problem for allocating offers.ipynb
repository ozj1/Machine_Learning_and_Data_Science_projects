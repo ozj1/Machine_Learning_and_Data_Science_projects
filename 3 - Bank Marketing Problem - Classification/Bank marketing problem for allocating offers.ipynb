{
 "cells": [
  {
   "cell_type": "markdown",
   "metadata": {},
   "source": [
    "## Bank marketing problem: envelope color and bonus amount alloacation"
   ]
  },
  {
   "cell_type": "raw",
   "metadata": {},
   "source": [
    "Problem description:\n",
    "\n",
    "It is desired to find the most important features in the case of customized marketing offers via envelopes. Tackling such a problem will add insights regarding the data, and bankers can make educated guesses to increase the success rate and profitability.\n",
    "\n",
    "We have four levels to generate data:\n",
    "Level 1: envelope color: green, and bonus amount: $100\n",
    "level 2: envelope color: green, and bonus amount: $200\n",
    "Level 3: envelope color: orange, and bonus amount: $100\n",
    "level 4: envelope color: orange, and bonus amount: $200\n",
    "\n",
    "After DOE (design of experiments), we allocate 25% of 1 million envelopes to each level and receive\n",
    "the acceptance response from customers, so we can investigate the correlation of each variable with the output.\n",
    "\n",
    "I tried One Hot Encoding and Lable Encoding to represent categorical variables as numerical values in this problem."
   ]
  },
  {
   "cell_type": "raw",
   "metadata": {},
   "source": [
    "Here we generate a sample data in a table consisting of envelope color and bonus amount.\n",
    "and customer_response (no for not accepting the offer and yes for accepting the offer)\n",
    "\n",
    "Input variables:\n",
    "\n",
    "1: envelope_color: type of job (categorical: 'Green,Orange')\n",
    "2: bonus_amount (categorical: '100$,200$')\n",
    "\n",
    "Output variable (desired target):\n",
    "3: customer response: has the client accepted the offer? (binary: 'yes','no')"
   ]
  },
  {
   "cell_type": "raw",
   "metadata": {},
   "source": [
    "We are dealing with a feature selection problem. Here are 3 methods I use to investigate such an issue.\n",
    "1: from Coefficients as Feature Importance Approaches: Logistic Regression Feature Importance\n",
    "2: from Decision Tree Feature Importance Approaches: Random Forest Feature Importance\n",
    "3: Deep Learning Feature Importance"
   ]
  },
  {
   "cell_type": "markdown",
   "metadata": {},
   "source": [
    "## Import Libraries"
   ]
  },
  {
   "cell_type": "code",
   "execution_count": 60,
   "metadata": {},
   "outputs": [],
   "source": [
    "# imports\n",
    "import pandas as pd\n",
    "import numpy as np\n",
    "import random\n",
    "import pdb # pdb.set_trace()\n",
    "\n",
    "import sklearn\n",
    "from sklearn import preprocessing\n",
    "from sklearn.preprocessing import LabelEncoder\n",
    "\n",
    "from sklearn import model_selection\n",
    "\n",
    "from sklearn.linear_model import LogisticRegression\n",
    "from sklearn.metrics import accuracy_score, roc_curve, auc, precision_recall_fscore_support\n",
    "\n",
    "from sklearn.preprocessing import PolynomialFeatures, StandardScaler\n",
    "\n",
    "import matplotlib.pyplot as plt\n",
    "from matplotlib import pyplot\n",
    "\n",
    "from sklearn.ensemble import RandomForestClassifier\n",
    "from sklearn.metrics import classification_report\n",
    "from sklearn.model_selection import GridSearchCV, RandomizedSearchCV\n",
    "\n",
    "from sklearn.ensemble import RandomForestClassifier,RandomForestRegressor\n",
    "import warnings\n",
    "warnings.filterwarnings('ignore')"
   ]
  },
  {
   "cell_type": "markdown",
   "metadata": {},
   "source": [
    "## Data Generation"
   ]
  },
  {
   "cell_type": "code",
   "execution_count": 350,
   "metadata": {},
   "outputs": [
    {
     "data": {
      "text/html": [
       "<div>\n",
       "<style scoped>\n",
       "    .dataframe tbody tr th:only-of-type {\n",
       "        vertical-align: middle;\n",
       "    }\n",
       "\n",
       "    .dataframe tbody tr th {\n",
       "        vertical-align: top;\n",
       "    }\n",
       "\n",
       "    .dataframe thead th {\n",
       "        text-align: right;\n",
       "    }\n",
       "</style>\n",
       "<table border=\"1\" class=\"dataframe\">\n",
       "  <thead>\n",
       "    <tr style=\"text-align: right;\">\n",
       "      <th></th>\n",
       "      <th>envelope_color</th>\n",
       "      <th>bonus_amount</th>\n",
       "      <th>customer_response</th>\n",
       "    </tr>\n",
       "  </thead>\n",
       "  <tbody>\n",
       "    <tr>\n",
       "      <td>0</td>\n",
       "      <td>Green</td>\n",
       "      <td>100$</td>\n",
       "      <td>yes</td>\n",
       "    </tr>\n",
       "    <tr>\n",
       "      <td>1</td>\n",
       "      <td>Green</td>\n",
       "      <td>100$</td>\n",
       "      <td>no</td>\n",
       "    </tr>\n",
       "    <tr>\n",
       "      <td>2</td>\n",
       "      <td>Green</td>\n",
       "      <td>100$</td>\n",
       "      <td>no</td>\n",
       "    </tr>\n",
       "    <tr>\n",
       "      <td>3</td>\n",
       "      <td>Green</td>\n",
       "      <td>100$</td>\n",
       "      <td>no</td>\n",
       "    </tr>\n",
       "    <tr>\n",
       "      <td>4</td>\n",
       "      <td>Green</td>\n",
       "      <td>100$</td>\n",
       "      <td>no</td>\n",
       "    </tr>\n",
       "    <tr>\n",
       "      <td>...</td>\n",
       "      <td>...</td>\n",
       "      <td>...</td>\n",
       "      <td>...</td>\n",
       "    </tr>\n",
       "    <tr>\n",
       "      <td>999995</td>\n",
       "      <td>Orange</td>\n",
       "      <td>200$</td>\n",
       "      <td>no</td>\n",
       "    </tr>\n",
       "    <tr>\n",
       "      <td>999996</td>\n",
       "      <td>Orange</td>\n",
       "      <td>200$</td>\n",
       "      <td>no</td>\n",
       "    </tr>\n",
       "    <tr>\n",
       "      <td>999997</td>\n",
       "      <td>Orange</td>\n",
       "      <td>200$</td>\n",
       "      <td>no</td>\n",
       "    </tr>\n",
       "    <tr>\n",
       "      <td>999998</td>\n",
       "      <td>Orange</td>\n",
       "      <td>200$</td>\n",
       "      <td>no</td>\n",
       "    </tr>\n",
       "    <tr>\n",
       "      <td>999999</td>\n",
       "      <td>Orange</td>\n",
       "      <td>200$</td>\n",
       "      <td>no</td>\n",
       "    </tr>\n",
       "  </tbody>\n",
       "</table>\n",
       "<p>1000000 rows × 3 columns</p>\n",
       "</div>"
      ],
      "text/plain": [
       "       envelope_color bonus_amount customer_response\n",
       "0               Green         100$               yes\n",
       "1               Green         100$                no\n",
       "2               Green         100$                no\n",
       "3               Green         100$                no\n",
       "4               Green         100$                no\n",
       "...               ...          ...               ...\n",
       "999995         Orange         200$                no\n",
       "999996         Orange         200$                no\n",
       "999997         Orange         200$                no\n",
       "999998         Orange         200$                no\n",
       "999999         Orange         200$                no\n",
       "\n",
       "[1000000 rows x 3 columns]"
      ]
     },
     "execution_count": 350,
     "metadata": {},
     "output_type": "execute_result"
    }
   ],
   "source": [
    "#data=[['Green','100$',],['bonus_amount',22],['Sahil',21],['Aryan',24]]\n",
    "data=[['Green','100$','yes']]\n",
    "df=pd.DataFrame(data,columns=['envelope_color','bonus_amount', 'customer_response'])\n",
    "\n",
    "i=1\n",
    "d = []\n",
    "level_size=250000\n",
    "\n",
    "# 1 million test results\n",
    "# The average acceptance rate is ~20% by default, so, for instance, only rand numbers less than 0.2 result in a positive response from customers.\n",
    "#I intentionally biased the results for the sake of this problem to study the features importance.\n",
    "\n",
    "while i<=4*level_size:\n",
    "    i=i+1\n",
    "    if i<=level_size:\n",
    "        randNumber = random.random()\n",
    "        if randNumber < 0.1:\n",
    "            cr='yes'\n",
    "        else:\n",
    "            cr='no'\n",
    "        d.append(\n",
    "            {\n",
    "                'envelope_color': 'Green',\n",
    "                'bonus_amount': '100$',\n",
    "                'customer_response':  cr\n",
    "            }\n",
    "        )\n",
    "    elif i>level_size and i<=2*level_size:\n",
    "        randNumber = random.random()\n",
    "        if randNumber < 0.2:\n",
    "            cr='yes'\n",
    "        else:\n",
    "            cr='no'\n",
    "        d.append(\n",
    "            {\n",
    "                'envelope_color': 'Green',\n",
    "                'bonus_amount': '200$',\n",
    "                'customer_response':  cr\n",
    "            }\n",
    "        )\n",
    "    elif i>2*level_size and i<=3*level_size:\n",
    "        randNumber = random.random()\n",
    "        if randNumber < 0.15:\n",
    "            cr='yes'\n",
    "        else:\n",
    "            cr='no'\n",
    "        d.append(\n",
    "            {\n",
    "                'envelope_color': 'Orange',\n",
    "                'bonus_amount': '100$',\n",
    "                'customer_response':  cr\n",
    "            }\n",
    "        )\n",
    "            \n",
    "    else:\n",
    "        randNumber = random.random()\n",
    "        if randNumber < 0.25:\n",
    "            cr='yes'\n",
    "        else:\n",
    "            cr='no'\n",
    "        d.append(\n",
    "            {\n",
    "                'envelope_color': 'Orange',\n",
    "                'bonus_amount': '200$',\n",
    "                'customer_response':  cr\n",
    "            }\n",
    "        )\n",
    "            \n",
    "\n",
    "df=pd.DataFrame(d)\n",
    "df"
   ]
  },
  {
   "cell_type": "markdown",
   "metadata": {},
   "source": [
    " ## One Hot Encoding"
   ]
  },
  {
   "cell_type": "code",
   "execution_count": 351,
   "metadata": {},
   "outputs": [],
   "source": [
    "# here we convert the categorical data of the input into binary as we have two levels for each variable\n",
    "df_input_binary=pd.get_dummies(df, columns=['envelope_color','bonus_amount'])"
   ]
  },
  {
   "cell_type": "code",
   "execution_count": 352,
   "metadata": {},
   "outputs": [
    {
     "data": {
      "text/html": [
       "<div>\n",
       "<style scoped>\n",
       "    .dataframe tbody tr th:only-of-type {\n",
       "        vertical-align: middle;\n",
       "    }\n",
       "\n",
       "    .dataframe tbody tr th {\n",
       "        vertical-align: top;\n",
       "    }\n",
       "\n",
       "    .dataframe thead th {\n",
       "        text-align: right;\n",
       "    }\n",
       "</style>\n",
       "<table border=\"1\" class=\"dataframe\">\n",
       "  <thead>\n",
       "    <tr style=\"text-align: right;\">\n",
       "      <th></th>\n",
       "      <th>customer_response</th>\n",
       "      <th>envelope_color_Green</th>\n",
       "      <th>envelope_color_Orange</th>\n",
       "      <th>bonus_amount_100$</th>\n",
       "      <th>bonus_amount_200$</th>\n",
       "    </tr>\n",
       "  </thead>\n",
       "  <tbody>\n",
       "    <tr>\n",
       "      <td>0</td>\n",
       "      <td>yes</td>\n",
       "      <td>1</td>\n",
       "      <td>0</td>\n",
       "      <td>1</td>\n",
       "      <td>0</td>\n",
       "    </tr>\n",
       "    <tr>\n",
       "      <td>1</td>\n",
       "      <td>no</td>\n",
       "      <td>1</td>\n",
       "      <td>0</td>\n",
       "      <td>1</td>\n",
       "      <td>0</td>\n",
       "    </tr>\n",
       "    <tr>\n",
       "      <td>2</td>\n",
       "      <td>no</td>\n",
       "      <td>1</td>\n",
       "      <td>0</td>\n",
       "      <td>1</td>\n",
       "      <td>0</td>\n",
       "    </tr>\n",
       "    <tr>\n",
       "      <td>3</td>\n",
       "      <td>no</td>\n",
       "      <td>1</td>\n",
       "      <td>0</td>\n",
       "      <td>1</td>\n",
       "      <td>0</td>\n",
       "    </tr>\n",
       "    <tr>\n",
       "      <td>4</td>\n",
       "      <td>no</td>\n",
       "      <td>1</td>\n",
       "      <td>0</td>\n",
       "      <td>1</td>\n",
       "      <td>0</td>\n",
       "    </tr>\n",
       "    <tr>\n",
       "      <td>...</td>\n",
       "      <td>...</td>\n",
       "      <td>...</td>\n",
       "      <td>...</td>\n",
       "      <td>...</td>\n",
       "      <td>...</td>\n",
       "    </tr>\n",
       "    <tr>\n",
       "      <td>999995</td>\n",
       "      <td>no</td>\n",
       "      <td>0</td>\n",
       "      <td>1</td>\n",
       "      <td>0</td>\n",
       "      <td>1</td>\n",
       "    </tr>\n",
       "    <tr>\n",
       "      <td>999996</td>\n",
       "      <td>no</td>\n",
       "      <td>0</td>\n",
       "      <td>1</td>\n",
       "      <td>0</td>\n",
       "      <td>1</td>\n",
       "    </tr>\n",
       "    <tr>\n",
       "      <td>999997</td>\n",
       "      <td>no</td>\n",
       "      <td>0</td>\n",
       "      <td>1</td>\n",
       "      <td>0</td>\n",
       "      <td>1</td>\n",
       "    </tr>\n",
       "    <tr>\n",
       "      <td>999998</td>\n",
       "      <td>no</td>\n",
       "      <td>0</td>\n",
       "      <td>1</td>\n",
       "      <td>0</td>\n",
       "      <td>1</td>\n",
       "    </tr>\n",
       "    <tr>\n",
       "      <td>999999</td>\n",
       "      <td>no</td>\n",
       "      <td>0</td>\n",
       "      <td>1</td>\n",
       "      <td>0</td>\n",
       "      <td>1</td>\n",
       "    </tr>\n",
       "  </tbody>\n",
       "</table>\n",
       "<p>1000000 rows × 5 columns</p>\n",
       "</div>"
      ],
      "text/plain": [
       "       customer_response  envelope_color_Green  envelope_color_Orange  \\\n",
       "0                    yes                     1                      0   \n",
       "1                     no                     1                      0   \n",
       "2                     no                     1                      0   \n",
       "3                     no                     1                      0   \n",
       "4                     no                     1                      0   \n",
       "...                  ...                   ...                    ...   \n",
       "999995                no                     0                      1   \n",
       "999996                no                     0                      1   \n",
       "999997                no                     0                      1   \n",
       "999998                no                     0                      1   \n",
       "999999                no                     0                      1   \n",
       "\n",
       "        bonus_amount_100$  bonus_amount_200$  \n",
       "0                       1                  0  \n",
       "1                       1                  0  \n",
       "2                       1                  0  \n",
       "3                       1                  0  \n",
       "4                       1                  0  \n",
       "...                   ...                ...  \n",
       "999995                  0                  1  \n",
       "999996                  0                  1  \n",
       "999997                  0                  1  \n",
       "999998                  0                  1  \n",
       "999999                  0                  1  \n",
       "\n",
       "[1000000 rows x 5 columns]"
      ]
     },
     "execution_count": 352,
     "metadata": {},
     "output_type": "execute_result"
    }
   ],
   "source": [
    "df_input_binary"
   ]
  },
  {
   "cell_type": "raw",
   "metadata": {},
   "source": [
    "Data cleaning and handling missing values are not required for this problem, so I move on to the ML prediction step.\n",
    "Since the bonus amounts of $200$ and $100 (similar to the envelope colors green and orange) are not orthogonal, I'll try Lable encoding from Sklearn here instead."
   ]
  },
  {
   "cell_type": "markdown",
   "metadata": {},
   "source": [
    "## Lable encoder"
   ]
  },
  {
   "cell_type": "code",
   "execution_count": 369,
   "metadata": {},
   "outputs": [
    {
     "data": {
      "text/html": [
       "<div>\n",
       "<style scoped>\n",
       "    .dataframe tbody tr th:only-of-type {\n",
       "        vertical-align: middle;\n",
       "    }\n",
       "\n",
       "    .dataframe tbody tr th {\n",
       "        vertical-align: top;\n",
       "    }\n",
       "\n",
       "    .dataframe thead th {\n",
       "        text-align: right;\n",
       "    }\n",
       "</style>\n",
       "<table border=\"1\" class=\"dataframe\">\n",
       "  <thead>\n",
       "    <tr style=\"text-align: right;\">\n",
       "      <th></th>\n",
       "      <th>envelope_color</th>\n",
       "      <th>bonus_amount</th>\n",
       "      <th>customer_response</th>\n",
       "    </tr>\n",
       "  </thead>\n",
       "  <tbody>\n",
       "    <tr>\n",
       "      <td>0</td>\n",
       "      <td>0</td>\n",
       "      <td>0</td>\n",
       "      <td>1</td>\n",
       "    </tr>\n",
       "    <tr>\n",
       "      <td>1</td>\n",
       "      <td>0</td>\n",
       "      <td>0</td>\n",
       "      <td>0</td>\n",
       "    </tr>\n",
       "    <tr>\n",
       "      <td>2</td>\n",
       "      <td>0</td>\n",
       "      <td>0</td>\n",
       "      <td>0</td>\n",
       "    </tr>\n",
       "    <tr>\n",
       "      <td>3</td>\n",
       "      <td>0</td>\n",
       "      <td>0</td>\n",
       "      <td>0</td>\n",
       "    </tr>\n",
       "    <tr>\n",
       "      <td>4</td>\n",
       "      <td>0</td>\n",
       "      <td>0</td>\n",
       "      <td>0</td>\n",
       "    </tr>\n",
       "  </tbody>\n",
       "</table>\n",
       "</div>"
      ],
      "text/plain": [
       "   envelope_color  bonus_amount  customer_response\n",
       "0               0             0                  1\n",
       "1               0             0                  0\n",
       "2               0             0                  0\n",
       "3               0             0                  0\n",
       "4               0             0                  0"
      ]
     },
     "execution_count": 369,
     "metadata": {},
     "output_type": "execute_result"
    }
   ],
   "source": [
    "# lable encoder\n",
    "\n",
    "#encoding the levels of a categorical features into numeric values (here binary)\n",
    "# I use lable encoding for the output y : customer_response\n",
    "\n",
    "df_binary=df\n",
    "\n",
    "le = preprocessing.LabelEncoder()\n",
    "df_binary.envelope_color = le.fit_transform(df.envelope_color)\n",
    "df_binary.bonus_amount = le.fit_transform(df.bonus_amount)\n",
    "df_binary.customer_response = le.fit_transform(df.customer_response)\n",
    "\n",
    "\n",
    "#cols = df_binary.columns.tolist()\n",
    "#cols = cols[1:] + cols[:1]\n",
    "#df_binary = df_binary[cols]\n",
    "\n",
    "df_binary.head()"
   ]
  },
  {
   "cell_type": "markdown",
   "metadata": {},
   "source": [
    "## Train and Test split"
   ]
  },
  {
   "cell_type": "code",
   "execution_count": 370,
   "metadata": {},
   "outputs": [
    {
     "data": {
      "text/plain": [
       "0    1\n",
       "1    0\n",
       "2    0\n",
       "3    0\n",
       "4    0\n",
       "5    0\n",
       "6    0\n",
       "7    0\n",
       "8    0\n",
       "9    0\n",
       "Name: customer_response, dtype: int64"
      ]
     },
     "execution_count": 370,
     "metadata": {},
     "output_type": "execute_result"
    }
   ],
   "source": [
    "X = df_binary.iloc[:,0:2]\n",
    "X[0:10]\n",
    "y = df_binary.iloc[:,2]\n",
    "y[0:10]"
   ]
  },
  {
   "cell_type": "code",
   "execution_count": 371,
   "metadata": {},
   "outputs": [
    {
     "name": "stdout",
     "output_type": "stream",
     "text": [
      "(800000, 2)\n",
      "(800000,)\n",
      "(200000, 2)\n",
      "(200000,)\n"
     ]
    }
   ],
   "source": [
    "\n",
    "x_train, x_test, y_train, y_test = model_selection.train_test_split(X, y, test_size=0.2, random_state=0) #80/20 split\n",
    "print(x_train.shape)\n",
    "print(y_train.shape)\n",
    "print(x_test.shape)\n",
    "print(y_test.shape)"
   ]
  },
  {
   "cell_type": "markdown",
   "metadata": {},
   "source": [
    "## Normalization and Scaling"
   ]
  },
  {
   "cell_type": "code",
   "execution_count": 372,
   "metadata": {},
   "outputs": [
    {
     "name": "stdout",
     "output_type": "stream",
     "text": [
      "(800000, 2)\n",
      "(800000,)\n",
      "(200000, 2)\n",
      "(200000,)\n"
     ]
    }
   ],
   "source": [
    "# normalize the data\n",
    "sc = StandardScaler()\n",
    "z_train = sc.fit_transform(x_train)\n",
    "z_test = sc.transform(x_test)\n",
    "print(z_train.shape)\n",
    "print(y_train.shape)\n",
    "print(z_test.shape)\n",
    "print(y_test.shape)"
   ]
  },
  {
   "cell_type": "markdown",
   "metadata": {},
   "source": [
    "## Model Training"
   ]
  },
  {
   "cell_type": "markdown",
   "metadata": {},
   "source": [
    "## 1 - Logistic Regression "
   ]
  },
  {
   "cell_type": "code",
   "execution_count": 358,
   "metadata": {},
   "outputs": [
    {
     "name": "stdout",
     "output_type": "stream",
     "text": [
      "Logistic Regression - Performance on validation data: \n",
      "\tAccuracy:\t82.58\n"
     ]
    }
   ],
   "source": [
    "\n",
    "\n",
    "def score_calc(model_name, label, prediction, prediction_probability):\n",
    "    #pdb.set_trace()\n",
    "    accuracy = round(accuracy_score(label, prediction)*100, 2)\n",
    "    fpr, tpr, _ = roc_curve(label, prediction_probability)\n",
    "    precision, recall, f_score, _ = precision_recall_fscore_support(label, prediction, average=None)\n",
    "    precision = round(precision[1]*100, 2)\n",
    "    recall = round(recall[1]*100, 2)\n",
    "    f_score = round(f_score[1]*100, 2)\n",
    "    print(model_name + \" - Performance on validation data: \")\n",
    "    print(\"\\tAccuracy:\\t\" + str(accuracy))\n",
    "    #print(\"\\tPrecision:\\t\" + str(precision))\n",
    "    #print(\"\\tRecall:\\t\\t\" + str(recall))\n",
    "    #print(\"\\tF_score:\\t\" + str(f_score))\n",
    "    return accuracy, fpr, tpr\n",
    "\n",
    "model_name = \"Logistic Regression\"\n",
    "logreg_model=LogisticRegression(penalty='l2', max_iter=1000)\n",
    "\n",
    "\n",
    "#logreg_model = LogisticRegression(solver='lbfgs')\n",
    "logreg_model.fit(z_train, y_train)\n",
    "test_pred = logreg_model.predict(z_test)\n",
    "test_prob = logreg_model.predict_proba(z_test)[:, 1]\n",
    "accuracy, fpr, tpr = score_calc(model_name, y_test, test_pred, test_prob)"
   ]
  },
  {
   "cell_type": "code",
   "execution_count": 359,
   "metadata": {},
   "outputs": [
    {
     "name": "stdout",
     "output_type": "stream",
     "text": [
      "Train accuracy = 0.82533\n",
      "Test accuracy  = 0.82578\n"
     ]
    }
   ],
   "source": [
    "# improve the accuracy of the model by adding polynomial features\n",
    "\n",
    "\n",
    "# add polynomial features\n",
    "poly = PolynomialFeatures(degree=6)\n",
    "z_train = poly.fit_transform(z_train)\n",
    "z_test = poly.transform(z_test)\n",
    "\n",
    "# model\n",
    "clf = LogisticRegression(penalty='none', max_iter=1000)\n",
    "clf.fit(z_train, y_train)\n",
    "\n",
    "# checking accuracy\n",
    "print(\"Train accuracy =\", clf.score(z_train, y_train))   \n",
    "print(\"Test accuracy  =\", clf.score(z_test, y_test))     "
   ]
  },
  {
   "cell_type": "code",
   "execution_count": 360,
   "metadata": {},
   "outputs": [],
   "source": [
    "def features_score_ml_model(ml_model):\n",
    "    feature_importance = ml_model.coef_[0, :]\n",
    "    return feature_importance\n",
    "\n",
    "features_score_lr = features_score_ml_model(logreg_model)"
   ]
  },
  {
   "cell_type": "code",
   "execution_count": 361,
   "metadata": {},
   "outputs": [
    {
     "data": {
      "text/plain": [
       "array([0.1776225 , 0.35301803])"
      ]
     },
     "execution_count": 361,
     "metadata": {},
     "output_type": "execute_result"
    }
   ],
   "source": [
    "features_score_lr"
   ]
  },
  {
   "cell_type": "markdown",
   "metadata": {},
   "source": [
    "## Feature Importance Visualization for Logistic Regression"
   ]
  },
  {
   "cell_type": "code",
   "execution_count": 362,
   "metadata": {},
   "outputs": [
    {
     "name": "stdout",
     "output_type": "stream",
     "text": [
      "Feature: 0, Score: 0.17762\n",
      "Feature: 1, Score: 0.35302\n"
     ]
    },
    {
     "data": {
      "image/png": "[encoded data removed]",
      "text/plain": [
       "<Figure size 432x288 with 1 Axes>"
      ]
     },
     "metadata": {
      "needs_background": "light"
     },
     "output_type": "display_data"
    }
   ],
   "source": [
    "\n",
    "# get scores\n",
    "importance = logreg_model.coef_[0]\n",
    "# summarize feature scores\n",
    "for i,v in enumerate(importance):\n",
    "    print('Feature: %0d, Score: %.5f' % (i,v))\n",
    "# plot feature scores\n",
    "pyplot.bar([x for x in range(len(importance))], importance)\n",
    "pyplot.show()"
   ]
  },
  {
   "cell_type": "code",
   "execution_count": 363,
   "metadata": {},
   "outputs": [],
   "source": [
    "# As it can be seen, two features have a negative correlation with the output and two positive correlation contributing to the offer acceptance, the negative ones makes sense since the average rate of acceptance is around 20%.\n",
    "# So the variables having positive score help with increasing the acceptance rate.\n",
    "\n",
    "#features_importance_lr = np.absolute(1/features_score_lr)\n",
    "#features_importance_lr = features_importance_lr/features_importance_lr.sum()\n",
    "\n",
    "features_importance_lr=features_score_lr"
   ]
  },
  {
   "cell_type": "code",
   "execution_count": 364,
   "metadata": {},
   "outputs": [
    {
     "data": {
      "image/png": "[encoded data removed]",
      "text/plain": [
       "<Figure size 432x288 with 1 Axes>"
      ]
     },
     "metadata": {
      "needs_background": "light"
     },
     "output_type": "display_data"
    },
    {
     "name": "stdout",
     "output_type": "stream",
     "text": [
      "\n"
     ]
    }
   ],
   "source": [
    "feature_names = df_binary.columns.values\n",
    "n=2 #number of variables \n",
    "indices = np.argsort(features_importance_lr)[::-1]\n",
    "plt.figure()\n",
    "plt.title(\"Feature importances (Logistic Regression)\")\n",
    "plt.bar(range(n), features_importance_lr[indices[:n]], color=\"g\", align=\"center\")\n",
    "plt.xticks(range(n), feature_names[indices[:n]], rotation=45, ha='right')\n",
    "plt.ylabel(\"Importance rate\")\n",
    "plt.xlabel(\"Features\")\n",
    "plt.subplots_adjust(bottom=0.3)\n",
    "plt.show()\n",
    "print()"
   ]
  },
  {
   "cell_type": "markdown",
   "metadata": {},
   "source": [
    "## 2 - Random Forest"
   ]
  },
  {
   "cell_type": "code",
   "execution_count": 376,
   "metadata": {},
   "outputs": [
    {
     "name": "stdout",
     "output_type": "stream",
     "text": [
      "Random Forest - Performance on validation data: \n",
      "\tAccuracy:\t82.58\n"
     ]
    },
    {
     "data": {
      "text/plain": [
       "array([0.20332113, 0.79667887])"
      ]
     },
     "execution_count": 376,
     "metadata": {},
     "output_type": "execute_result"
    }
   ],
   "source": [
    "#by building a Random Forest model we can get the feature importance values of each feature\n",
    "\n",
    "model_name = \"Random Forest\"\n",
    "random_forest_model = RandomForestClassifier(n_estimators=100, max_depth=None)\n",
    "#class_weight='balanced',max_depth=5,max_features='sqrt',n_estimators=300,random_state=24\n",
    "random_forest_model.fit(z_train, y_train)\n",
    "test_pred = random_forest_model.predict(z_test)\n",
    "test_prob = random_forest_model.predict_proba(z_test)[:, 1]\n",
    "test_prob=test_pred\n",
    "accuracy, fpr, tpr = score_calc(model_name, y_test, test_pred, test_prob)\n",
    "\n",
    "features_importance_rf = random_forest_model.feature_importances_\n",
    "features_importance_rf"
   ]
  },
  {
   "cell_type": "markdown",
   "metadata": {},
   "source": [
    "## Random Forest Hyperparameter Tuning"
   ]
  },
  {
   "cell_type": "code",
   "execution_count": 377,
   "metadata": {},
   "outputs": [
    {
     "name": "stdout",
     "output_type": "stream",
     "text": [
      "RandomForestClassifier(max_features='log2', max_leaf_nodes=6, n_estimators=25)\n"
     ]
    }
   ],
   "source": [
    "# hyper parameter optimization of Random Forest using RandomizedSearchCV\n",
    "\n",
    "\n",
    "param_grid = {\n",
    "    'n_estimators': [25, 50, 100, 150],\n",
    "    'max_features': ['sqrt', 'log2'],\n",
    "    'max_depth': [3, 6, 9, None],\n",
    "    'max_leaf_nodes': [3, 6, 9],\n",
    "}\n",
    "\n",
    "#grid_search = GridSearchCV(RandomForestClassifier(),\n",
    "#                           param_grid=param_grid)\n",
    "#grid_search.fit(z_train, y_train)\n",
    "#print(grid_search.best_estimator_)\n",
    "\n",
    "\n",
    "random_search = RandomizedSearchCV(RandomForestClassifier(),\n",
    "                                   param_grid)\n",
    "random_search.fit(x_train, y_train)\n",
    "print(random_search.best_estimator_)\n",
    "\n"
   ]
  },
  {
   "cell_type": "code",
   "execution_count": 379,
   "metadata": {},
   "outputs": [
    {
     "name": "stdout",
     "output_type": "stream",
     "text": [
      "              precision    recall  f1-score   support\n",
      "\n",
      "           0       1.00      0.83      0.90    200000\n",
      "           1       0.00      0.00      0.00         0\n",
      "\n",
      "    accuracy                           0.83    200000\n",
      "   macro avg       0.50      0.41      0.45    200000\n",
      "weighted avg       1.00      0.83      0.90    200000\n",
      "\n"
     ]
    }
   ],
   "source": [
    "# training the model on optimized values of parameters\n",
    "\n",
    "model_random = RandomForestClassifier(max_depth=None,\n",
    "                                      max_features='log2',\n",
    "                                      max_leaf_nodes=6,\n",
    "                                      n_estimators=25)\n",
    "\n",
    "model_random.fit(z_train, y_train)\n",
    "y_pred_rand = model_random.predict(z_test)\n",
    "print(classification_report(y_pred_rand, y_test))"
   ]
  },
  {
   "cell_type": "markdown",
   "metadata": {},
   "source": [
    "## Feature Importance Visualization for Random Forest"
   ]
  },
  {
   "cell_type": "code",
   "execution_count": 380,
   "metadata": {},
   "outputs": [
    {
     "name": "stdout",
     "output_type": "stream",
     "text": [
      "Feature: 0, Score: 0.20148\n",
      "Feature: 1, Score: 0.79852\n"
     ]
    },
    {
     "data": {
      "image/png": "[encoded data removed]",
      "text/plain": [
       "<Figure size 432x288 with 1 Axes>"
      ]
     },
     "metadata": {
      "needs_background": "light"
     },
     "output_type": "display_data"
    }
   ],
   "source": [
    "importance = model_random.feature_importances_\n",
    "# summarize feature importance\n",
    "for i,v in enumerate(importance):\n",
    " print('Feature: %0d, Score: %.5f' % (i,v))\n",
    "# plot feature importance\n",
    "pyplot.bar([x for x in range(len(importance))], importance)\n",
    "pyplot.show()"
   ]
  },
  {
   "cell_type": "code",
   "execution_count": 381,
   "metadata": {},
   "outputs": [
    {
     "data": {
      "image/png": "[encoded data removed]",
      "text/plain": [
       "<Figure size 432x288 with 1 Axes>"
      ]
     },
     "metadata": {
      "needs_background": "light"
     },
     "output_type": "display_data"
    },
    {
     "name": "stdout",
     "output_type": "stream",
     "text": [
      "\n"
     ]
    }
   ],
   "source": [
    "n=2 #number of variables \n",
    "feature_names = df_binary.columns.values\n",
    "indices = np.argsort(importance)[::-1]\n",
    "plt.figure()\n",
    "plt.title(\"Feature importances (Random Forest)\")\n",
    "plt.bar(range(n), importance[indices[:n]], color=\"g\", align=\"center\")\n",
    "plt.xticks(range(n), feature_names[indices[:n]], rotation=45, ha='right')\n",
    "plt.ylabel(\"Importance rate\")\n",
    "plt.xlabel(\"Features\")\n",
    "plt.subplots_adjust(bottom=0.3)\n",
    "plt.show()\n",
    "print()"
   ]
  },
  {
   "cell_type": "markdown",
   "metadata": {},
   "source": [
    "## 3 - Neural Network"
   ]
  },
  {
   "cell_type": "code",
   "execution_count": 382,
   "metadata": {},
   "outputs": [],
   "source": [
    "from keras.models import Sequential\n",
    "from keras.layers import Dense\n",
    "from keras import layers"
   ]
  },
  {
   "cell_type": "code",
   "execution_count": 384,
   "metadata": {},
   "outputs": [
    {
     "name": "stdout",
     "output_type": "stream",
     "text": [
      "Epoch 1/10\n",
      "6250/6250 [==============================] - 28s 4ms/step - loss: 0.4536 - accuracy: 0.8250\n",
      "Epoch 2/10\n",
      "6250/6250 [==============================] - 23s 4ms/step - loss: 0.4526 - accuracy: 0.8253\n",
      "Epoch 3/10\n",
      "6250/6250 [==============================] - 16s 3ms/step - loss: 0.4525 - accuracy: 0.8253\n",
      "Epoch 4/10\n",
      "6250/6250 [==============================] - 17s 3ms/step - loss: 0.4525 - accuracy: 0.8253\n",
      "Epoch 5/10\n",
      "6250/6250 [==============================] - 14s 2ms/step - loss: 0.4525 - accuracy: 0.8253\n",
      "Epoch 6/10\n",
      "6250/6250 [==============================] - 16s 3ms/step - loss: 0.4524 - accuracy: 0.8253\n",
      "Epoch 7/10\n",
      "6250/6250 [==============================] - 12s 2ms/step - loss: 0.4524 - accuracy: 0.8253\n",
      "Epoch 8/10\n",
      "6250/6250 [==============================] - 12s 2ms/step - loss: 0.4524 - accuracy: 0.8253\n",
      "Epoch 9/10\n",
      "6250/6250 [==============================] - 12s 2ms/step - loss: 0.4524 - accuracy: 0.8253\n",
      "Epoch 10/10\n",
      "6250/6250 [==============================] - 15s 2ms/step - loss: 0.4524 - accuracy: 0.8253\n"
     ]
    },
    {
     "data": {
      "text/plain": [
       "<keras.callbacks.History at 0x15171f12a08>"
      ]
     },
     "execution_count": 384,
     "metadata": {},
     "output_type": "execute_result"
    }
   ],
   "source": [
    "model = Sequential()\n",
    "\n",
    "model.add(layers.Dense(32, input_dim=2, activation=\"relu\"))\n",
    "model.add(layers.Dense(16, activation=\"relu\"))\n",
    "model.add(layers.Dense(8, activation=\"relu\"))\n",
    "model.add(layers.Dense(1, activation=\"sigmoid\"))\n",
    "\n",
    "model.compile(loss='binary_crossentropy', optimizer='adam', metrics=['accuracy'])\n",
    "\n",
    "z_train_keras = np.array(z_train)\n",
    "y_train_keras = np.array(y_train)\n",
    "#print(z_train_keras.shape)\n",
    "y_train_keras = y_train_keras.reshape(y_train_keras.shape[0], 1)\n",
    "\n",
    "model.fit(np.array(z_train_keras), np.array(y_train_keras), epochs=10, batch_size=128, shuffle=True)\n"
   ]
  },
  {
   "cell_type": "code",
   "execution_count": 385,
   "metadata": {},
   "outputs": [
    {
     "name": "stdout",
     "output_type": "stream",
     "text": [
      "6250/6250 [==============================] - 10s 2ms/step - loss: 0.4517 - accuracy: 0.8258\n",
      "\n",
      "accuracy: 82.58%\n"
     ]
    }
   ],
   "source": [
    "scores = model.evaluate(np.array(z_test), np.array(y_test))\n",
    "print(\"\\n%s: %.2f%%\" % (model.metrics_names[1], scores[1]*100))"
   ]
  },
  {
   "cell_type": "markdown",
   "metadata": {},
   "source": [
    "## Neural Network feature importance"
   ]
  },
  {
   "cell_type": "code",
   "execution_count": 386,
   "metadata": {},
   "outputs": [
    {
     "name": "stdout",
     "output_type": "stream",
     "text": [
      "6250/6250 [==============================] - 12s 2ms/step - loss: 0.4517 - accuracy: 0.8258\n"
     ]
    }
   ],
   "source": [
    "from sklearn.inspection import permutation_importance\n",
    "\n",
    "# Split the dataset into training and testing sets\n",
    "#X_train, X_test, y_train, y_test = train_test_split(X, y, test_size=0.2, random_state=42)\n",
    "\n",
    "# Train the neural network on the training set\n",
    "#model.fit(z_train, y_train)\n",
    "\n",
    "# Evaluate the model performance on the testing set\n",
    "test_loss, test_acc = model.evaluate(z_test, y_test)\n"
   ]
  },
  {
   "cell_type": "code",
   "execution_count": 387,
   "metadata": {},
   "outputs": [
    {
     "name": "stdout",
     "output_type": "stream",
     "text": [
      "6250/6250 [==============================] - 9s 1ms/step\n",
      "6250/6250 [==============================] - 12s 2ms/step\n",
      "6250/6250 [==============================] - 9s 1ms/step\n",
      "6250/6250 [==============================] - 13s 2ms/step\n",
      "6250/6250 [==============================] - 14s 2ms/step\n",
      "6250/6250 [==============================] - 14s 2ms/step\n",
      "6250/6250 [==============================] - 10s 2ms/step\n",
      "6250/6250 [==============================] - 13s 2ms/step\n",
      "6250/6250 [==============================] - 12s 2ms/step\n",
      "6250/6250 [==============================] - 13s 2ms/step\n",
      "6250/6250 [==============================] - 10s 2ms/step\n",
      "6250/6250 [==============================] - 10s 2ms/step\n",
      "6250/6250 [==============================] - 9s 2ms/step\n",
      "6250/6250 [==============================] - 12s 2ms/step\n",
      "6250/6250 [==============================] - 10s 2ms/step\n",
      "6250/6250 [==============================] - 9s 1ms/step\n",
      "6250/6250 [==============================] - 10s 2ms/step\n",
      "6250/6250 [==============================] - 18s 3ms/step\n",
      "6250/6250 [==============================] - 12s 2ms/step\n",
      "6250/6250 [==============================] - 11s 2ms/step\n",
      "6250/6250 [==============================] - 13s 2ms/step\n",
      "Feature 0: 0.01009\n",
      "Feature 1: 0.03442\n"
     ]
    },
    {
     "data": {
      "image/png": "[encoded data removed]",
      "text/plain": [
       "<Figure size 432x288 with 1 Axes>"
      ]
     },
     "metadata": {
      "needs_background": "light"
     },
     "output_type": "display_data"
    }
   ],
   "source": [
    "# Calculate the baseline performance\n",
    "baseline = test_acc\n",
    "\n",
    "# Calculate the feature importance scores\n",
    "#scoring = ['neg_mean_squared_error']\n",
    "\n",
    "results = permutation_importance(model, z_test, y_test, n_repeats=10, random_state=42, scoring='explained_variance')\n",
    "importance = results.importances_mean\n",
    "\n",
    "# Print the feature importance scores\n",
    "for i,v in enumerate(importance):\n",
    "    print('Feature %d: %.5f' % (i,v))\n",
    "\n",
    "# Plot the feature importance chart\n",
    "plt.bar([x for x in range(len(importance))], importance)\n",
    "plt.show()"
   ]
  },
  {
   "cell_type": "code",
   "execution_count": 388,
   "metadata": {},
   "outputs": [
    {
     "data": {
      "text/plain": [
       "array([0.01009297, 0.03442162])"
      ]
     },
     "execution_count": 388,
     "metadata": {},
     "output_type": "execute_result"
    }
   ],
   "source": [
    "importance"
   ]
  },
  {
   "cell_type": "code",
   "execution_count": 389,
   "metadata": {},
   "outputs": [
    {
     "data": {
      "image/png": "[encoded data removed]",
      "text/plain": [
       "<Figure size 432x288 with 1 Axes>"
      ]
     },
     "metadata": {
      "needs_background": "light"
     },
     "output_type": "display_data"
    },
    {
     "name": "stdout",
     "output_type": "stream",
     "text": [
      "\n"
     ]
    }
   ],
   "source": [
    "n=2 #number of variables \n",
    "feature_names = df_binary.columns.values\n",
    "indices = np.argsort(importance)[::-1]\n",
    "plt.figure()\n",
    "plt.title(\"Feature importances (Neural Network)\")\n",
    "plt.bar(range(n), importance[indices[:n]], color=\"g\", align=\"center\")\n",
    "plt.xticks(range(n), feature_names[indices[:n]], rotation=45, ha='right')\n",
    "plt.ylabel(\"Importance rate\")\n",
    "plt.xlabel(\"Features\")\n",
    "plt.subplots_adjust(bottom=0.3)\n",
    "plt.show()\n",
    "print()"
   ]
  },
  {
   "cell_type": "code",
   "execution_count": 79,
   "metadata": {},
   "outputs": [
    {
     "data": {
      "text/plain": [
       "dict_keys(['explained_variance', 'r2', 'max_error', 'neg_median_absolute_error', 'neg_mean_absolute_error', 'neg_mean_absolute_percentage_error', 'neg_mean_squared_error', 'neg_mean_squared_log_error', 'neg_root_mean_squared_error', 'neg_mean_poisson_deviance', 'neg_mean_gamma_deviance', 'accuracy', 'top_k_accuracy', 'roc_auc', 'roc_auc_ovr', 'roc_auc_ovo', 'roc_auc_ovr_weighted', 'roc_auc_ovo_weighted', 'balanced_accuracy', 'average_precision', 'neg_log_loss', 'neg_brier_score', 'adjusted_rand_score', 'rand_score', 'homogeneity_score', 'completeness_score', 'v_measure_score', 'mutual_info_score', 'adjusted_mutual_info_score', 'normalized_mutual_info_score', 'fowlkes_mallows_score', 'precision', 'precision_macro', 'precision_micro', 'precision_samples', 'precision_weighted', 'recall', 'recall_macro', 'recall_micro', 'recall_samples', 'recall_weighted', 'f1', 'f1_macro', 'f1_micro', 'f1_samples', 'f1_weighted', 'jaccard', 'jaccard_macro', 'jaccard_micro', 'jaccard_samples', 'jaccard_weighted'])"
      ]
     },
     "execution_count": 79,
     "metadata": {},
     "output_type": "execute_result"
    }
   ],
   "source": [
    "sklearn.metrics.SCORERS.keys()"
   ]
  },
  {
   "cell_type": "markdown",
   "metadata": {},
   "source": [
    "## Conclusion and Summary"
   ]
  },
  {
   "cell_type": "raw",
   "metadata": {},
   "source": [
    "The generated data has two features ('envelope_color' and 'bonus_amount'), which were scaled and normalized, and one binary target variable ('customer_response').\n",
    "\n",
    "3 models of Logistic Regression (LR), Random Forest (RF) and Neural Network were implemented, evaluated, and compared in terms of feature importance.\n",
    "\n",
    "Performed random forest hyperparameter tuning to find the optimized values of RF and improve the accuracy of the model.\n",
    "\n",
    "All three models show that the bonus amount is a more important feature compared to the envelope color.\n",
    "\n",
    "------------------------------------\n",
    "\n",
    "By creating similar models, bankers can make an educated guess instead of choosing features such as envelope color and bonus amount randomly.\n",
    "\n",
    "Other features, such as age, annual salary, education level, marital status, etc., can also be studied to gain a more detailed perspective on the features influencing acceptance rates.\n",
    "\n",
    "Having an educated guess will increase the success rate."
   ]
  }
 ],
 "metadata": {
  "kernelspec": {
   "display_name": "Python 3",
   "language": "python",
   "name": "python3"
  },
  "language_info": {
   "codemirror_mode": {
    "name": "ipython",
    "version": 3
   },
   "file_extension": ".py",
   "mimetype": "text/x-python",
   "name": "python",
   "nbconvert_exporter": "python",
   "pygments_lexer": "ipython3",
   "version": "3.7.4"
  }
 },
 "nbformat": 4,
 "nbformat_minor": 2
}
