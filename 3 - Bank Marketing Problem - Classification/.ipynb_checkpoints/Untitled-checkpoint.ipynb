{
 "cells": [
  {
   "cell_type": "markdown",
   "metadata": {},
   "source": [
    "## Bank marketing problem: envelope color and bonus amount alloacation"
   ]
  },
  {
   "cell_type": "code",
   "execution_count": null,
   "metadata": {},
   "outputs": [],
   "source": [
    "# we have 4 following levels \n",
    "#level1: envelope color=Green and bonus amount=100$\n",
    "#level2: envelope color=Green and bonus amount=200$\n",
    "#level3: envelope color=Orange and bonus amount=100$\n",
    "#level4: envelope color=Orange and bonus amount=200$\n",
    "\n",
    "# After DOE we allocate 25% of 1 Mil envelopes to each level and recieve \n",
    "# the acceptance response from customers so we can investigate the correlation of each \n",
    "# variable with the output \n",
    "# I use One hot encoding to represent categorical variables as\n",
    "# numerical values in this problem."
   ]
  },
  {
   "cell_type": "code",
   "execution_count": null,
   "metadata": {},
   "outputs": [],
   "source": [
    "# Here we generate a sample result a table consiste of customur ID, envelope color, bonus amount \n",
    "# and customer_responce (no for not accepting the offer and yes for accepting the offer) \n",
    "\n",
    "#Input variables:\n",
    "\n",
    "# 1 - customur_ID (numeric)\n",
    "# 2 - envelope_color : type of job (categorical: 'Green.','Orange')\n",
    "# 3 - bonus_amount (categorical: '100$','200$')\n",
    "\n",
    "# Output variable (desired target):\n",
    "# 4 - customer_responce - has the client accepted the offer? (binary: 'yes','no')"
   ]
  },
  {
   "cell_type": "code",
   "execution_count": null,
   "metadata": {},
   "outputs": [],
   "source": []
  }
 ],
 "metadata": {
  "kernelspec": {
   "display_name": "Python 3",
   "language": "python",
   "name": "python3"
  },
  "language_info": {
   "codemirror_mode": {
    "name": "ipython",
    "version": 3
   },
   "file_extension": ".py",
   "mimetype": "text/x-python",
   "name": "python",
   "nbconvert_exporter": "python",
   "pygments_lexer": "ipython3",
   "version": "3.7.4"
  }
 },
 "nbformat": 4,
 "nbformat_minor": 2
}
